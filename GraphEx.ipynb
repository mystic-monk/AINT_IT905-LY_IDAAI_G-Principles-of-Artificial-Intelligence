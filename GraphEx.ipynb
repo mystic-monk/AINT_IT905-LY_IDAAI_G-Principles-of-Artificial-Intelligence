{
  "nbformat": 4,
  "nbformat_minor": 0,
  "metadata": {
    "colab": {
      "provenance": [],
      "collapsed_sections": []
    },
    "kernelspec": {
      "name": "python3",
      "display_name": "Python 3"
    },
    "language_info": {
      "name": "python"
    }
  },
  "cells": [
    {
      "cell_type": "markdown",
      "source": [
        "A recursive function calls it self. For example the factorial of any number"
      ],
      "metadata": {
        "id": "_fwwylwsQpnD"
      }
    },
    {
      "cell_type": "code",
      "source": [
        "def factorial(num):\n",
        "  if num==0:\n",
        "    return 1\n",
        "  else:\n",
        "    return num * factorial(num-1)\n",
        "\n",
        "print(factorial(4))"
      ],
      "metadata": {
        "colab": {
          "base_uri": "https://localhost:8080/"
        },
        "id": "aX7wMu2tQoUE",
        "outputId": "05e56f8c-0eea-4b7b-c03d-62f89b443559"
      },
      "execution_count": 3,
      "outputs": [
        {
          "output_type": "stream",
          "name": "stdout",
          "text": [
            "24\n"
          ]
        }
      ]
    },
    {
      "cell_type": "markdown",
      "source": [
        "E1. Could you attain the n power of a number using a recursive function? E.g. 2^n"
      ],
      "metadata": {
        "id": "5kdBjIVaUuXy"
      }
    },
    {
      "cell_type": "code",
      "source": [],
      "metadata": {
        "id": "cqrU5AO9U5rC"
      },
      "execution_count": 12,
      "outputs": []
    },
    {
      "cell_type": "markdown",
      "source": [
        "Graphs and trees are also recursive"
      ],
      "metadata": {
        "id": "B4mkXIpARRhn"
      }
    },
    {
      "cell_type": "code",
      "execution_count": 5,
      "metadata": {
        "id": "WQSpM1HVF6DH"
      },
      "outputs": [],
      "source": [
        "class Graph:\n",
        "    def __init__(self, edges):\n",
        "        self.edges = edges\n",
        "        self.graph_dict = {}\n",
        "        for start, end in edges:\n",
        "            if start in self.graph_dict:\n",
        "                self.graph_dict[start].append(end)\n",
        "            else:\n",
        "                self.graph_dict[start] = [end]\n",
        "        print(\"Graph Dict:\", self.graph_dict)\n",
        "\n",
        "    def get_paths(self, start, end, path=[]):\n",
        "        path = path + [start]\n",
        "\n",
        "        if start == end:\n",
        "            return [path]\n",
        "\n",
        "        if start not in self.graph_dict:\n",
        "            return []\n",
        "\n",
        "        paths = []\n",
        "        for node in self.graph_dict[start]:\n",
        "            if node not in path:\n",
        "                new_paths = self.get_paths(node, end, path)\n",
        "                for p in new_paths:\n",
        "                    paths.append(p)\n",
        "\n",
        "        return paths\n",
        "\n"
      ]
    },
    {
      "cell_type": "code",
      "source": [
        "#This routes are the ones used in our lecture\n",
        "routes = [\n",
        "        (\"Dublin\", \"Swords\"),\n",
        "        (\"Swords\", \"Drogheda\"),\n",
        "        (\"Drogheda\", \"Ardee\"),\n",
        "        (\"Drogeda\", \"Dundalk\"),\n",
        "        (\"Ardee\", \"Dundalk\"),\n",
        "        (\"Dundalk\", \"Banbridge\"),\n",
        "        (\"Banbridge\", \"Glenavy\"),\n",
        "        (\"Glenavy\", \"Belfast\"),\n",
        "        (\"Dublin\", \"Carrickmacross\"),\n",
        "        (\"Carrickmacross\", \"Keady\"),\n",
        "        (\"Keady\",\"Portadown\"),\n",
        "        (\"Portadown\", \"Glenavy\"),\n",
        "    ]\n",
        "\n",
        "route_graph = Graph(routes)\n",
        "\n",
        "start = \"Dublin\"\n",
        "end = \"Belfast\"\n",
        "\n",
        "print(f\"The paths between: {start} and {end}: \",route_graph.get_paths(start,end))\n"
      ],
      "metadata": {
        "colab": {
          "base_uri": "https://localhost:8080/"
        },
        "id": "STs1TxejP7xQ",
        "outputId": "a4c41421-03ca-410d-9dd8-252155ad046a"
      },
      "execution_count": 14,
      "outputs": [
        {
          "output_type": "stream",
          "name": "stdout",
          "text": [
            "Graph Dict: {'Dublin': ['Swords', 'Carrickmacross'], 'Swords': ['Drogheda'], 'Drogheda': ['Ardee'], 'Drogeda': ['Dundalk'], 'Ardee': ['Dundalk'], 'Dundalk': ['Banbridge'], 'Banbridge': ['Glenavy'], 'Glenavy': ['Belfast'], 'Carrickmacross': ['Keady'], 'Keady': ['Portadown'], 'Portadown': ['Glenavy']}\n",
            "The paths between: Dublin and Belfast:  [['Dublin', 'Swords', 'Drogheda', 'Ardee', 'Dundalk', 'Banbridge', 'Glenavy', 'Belfast'], ['Dublin', 'Carrickmacross', 'Keady', 'Portadown', 'Glenavy', 'Belfast']]\n"
          ]
        }
      ]
    }
  ]
}