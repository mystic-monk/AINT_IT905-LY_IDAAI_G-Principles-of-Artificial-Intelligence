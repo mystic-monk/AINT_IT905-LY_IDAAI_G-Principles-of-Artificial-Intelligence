{
  "nbformat": 4,
  "nbformat_minor": 0,
  "metadata": {
    "colab": {
      "provenance": [],
      "collapsed_sections": []
    },
    "kernelspec": {
      "name": "python3",
      "display_name": "Python 3"
    },
    "language_info": {
      "name": "python"
    }
  },
  "cells": [
    {
      "cell_type": "markdown",
      "source": [
        "Obtaining parameters from data\n",
        "This torial shows you how to get the prior probabilities and conditional probabilities from data. This example was taken from the pgmpy tutorials\n",
        "For more information or tutorials please see this link: https://pgmpy.org/detailed_notebooks/10.%20Learning%20Bayesian%20Networks%20from%20Data.html\n",
        "\n",
        "Please note that there are tutorials where you can also obtain also the structure of the network from data, but you have to score it, to decide which of all the generated structures is the best"
      ],
      "metadata": {
        "id": "vBTsN6FukNKI"
      }
    },
    {
      "cell_type": "markdown",
      "source": [
        "1- Parameter Learning"
      ],
      "metadata": {
        "id": "air0UQ2GZbI5"
      }
    },
    {
      "cell_type": "markdown",
      "source": [
        "Data can be loaded in a data frame. Here we are creating it"
      ],
      "metadata": {
        "id": "Vfc5PW9IZtgc"
      }
    },
    {
      "cell_type": "code",
      "execution_count": 8,
      "metadata": {
        "colab": {
          "base_uri": "https://localhost:8080/"
        },
        "id": "8nIsnBQJXvFs",
        "outputId": "e18f3b9b-8506-43b1-b563-314b73245a85"
      },
      "outputs": [
        {
          "output_type": "stream",
          "name": "stdout",
          "text": [
            "     fruit tasty   size\n",
            "0   banana   yes  large\n",
            "1    apple    no  large\n",
            "2   banana   yes  large\n",
            "3    apple   yes  small\n",
            "4   banana   yes  large\n",
            "5    apple   yes  large\n",
            "6   banana   yes  large\n",
            "7    apple   yes  small\n",
            "8    apple   yes  large\n",
            "9    apple   yes  large\n",
            "10  banana   yes  large\n",
            "11  banana    no  large\n",
            "12   apple    no  small\n",
            "13  banana    no  small\n"
          ]
        }
      ],
      "source": [
        "import pandas as pd\n",
        "data = pd.DataFrame(data={'fruit': [\"banana\", \"apple\", \"banana\", \"apple\", \"banana\",\"apple\", \"banana\",\n",
        "                                    \"apple\", \"apple\", \"apple\", \"banana\", \"banana\", \"apple\", \"banana\",],\n",
        "                          'tasty': [\"yes\", \"no\", \"yes\", \"yes\", \"yes\", \"yes\", \"yes\",\n",
        "                                    \"yes\", \"yes\", \"yes\", \"yes\", \"no\", \"no\", \"no\"],\n",
        "                          'size': [\"large\", \"large\", \"large\", \"small\", \"large\", \"large\", \"large\",\n",
        "                                    \"small\", \"large\", \"large\", \"large\", \"large\", \"small\", \"small\"]})\n",
        "print(data)"
      ]
    },
    {
      "cell_type": "code",
      "source": [
        "!pip install pgmpy"
      ],
      "metadata": {
        "colab": {
          "base_uri": "https://localhost:8080/"
        },
        "id": "ENrcVwwSYJru",
        "outputId": "7f26b891-8262-4949-841a-c2c229ddab6a"
      },
      "execution_count": 9,
      "outputs": [
        {
          "output_type": "stream",
          "name": "stdout",
          "text": [
            "Looking in indexes: https://pypi.org/simple, https://us-python.pkg.dev/colab-wheels/public/simple/\n",
            "Requirement already satisfied: pgmpy in /usr/local/lib/python3.7/dist-packages (0.1.20)\n",
            "Requirement already satisfied: scikit-learn in /usr/local/lib/python3.7/dist-packages (from pgmpy) (1.0.2)\n",
            "Requirement already satisfied: networkx in /usr/local/lib/python3.7/dist-packages (from pgmpy) (2.6.3)\n",
            "Requirement already satisfied: opt-einsum in /usr/local/lib/python3.7/dist-packages (from pgmpy) (3.3.0)\n",
            "Requirement already satisfied: joblib in /usr/local/lib/python3.7/dist-packages (from pgmpy) (1.2.0)\n",
            "Requirement already satisfied: pyparsing in /usr/local/lib/python3.7/dist-packages (from pgmpy) (3.0.9)\n",
            "Requirement already satisfied: torch in /usr/local/lib/python3.7/dist-packages (from pgmpy) (1.12.1+cu113)\n",
            "Requirement already satisfied: statsmodels in /usr/local/lib/python3.7/dist-packages (from pgmpy) (0.12.2)\n",
            "Requirement already satisfied: scipy in /usr/local/lib/python3.7/dist-packages (from pgmpy) (1.7.3)\n",
            "Requirement already satisfied: tqdm in /usr/local/lib/python3.7/dist-packages (from pgmpy) (4.64.1)\n",
            "Requirement already satisfied: pandas in /usr/local/lib/python3.7/dist-packages (from pgmpy) (1.3.5)\n",
            "Requirement already satisfied: numpy in /usr/local/lib/python3.7/dist-packages (from pgmpy) (1.21.6)\n",
            "Requirement already satisfied: python-dateutil>=2.7.3 in /usr/local/lib/python3.7/dist-packages (from pandas->pgmpy) (2.8.2)\n",
            "Requirement already satisfied: pytz>=2017.3 in /usr/local/lib/python3.7/dist-packages (from pandas->pgmpy) (2022.5)\n",
            "Requirement already satisfied: six>=1.5 in /usr/local/lib/python3.7/dist-packages (from python-dateutil>=2.7.3->pandas->pgmpy) (1.15.0)\n",
            "Requirement already satisfied: threadpoolctl>=2.0.0 in /usr/local/lib/python3.7/dist-packages (from scikit-learn->pgmpy) (3.1.0)\n",
            "Requirement already satisfied: patsy>=0.5 in /usr/local/lib/python3.7/dist-packages (from statsmodels->pgmpy) (0.5.3)\n",
            "Requirement already satisfied: typing-extensions in /usr/local/lib/python3.7/dist-packages (from torch->pgmpy) (4.1.1)\n"
          ]
        }
      ]
    },
    {
      "cell_type": "markdown",
      "source": [
        "We know variables are related as follows:"
      ],
      "metadata": {
        "id": "x8f4ufZcYDZU"
      }
    },
    {
      "cell_type": "code",
      "source": [
        "from pgmpy.models import BayesianModel\n",
        "\n",
        "model = BayesianModel([('fruit', 'tasty'), ('size', 'tasty')])  # fruit -> tasty <- size"
      ],
      "metadata": {
        "colab": {
          "base_uri": "https://localhost:8080/"
        },
        "id": "wVPxvuIDX2m6",
        "outputId": "425c88b0-bafb-4b10-a083-3bb1b7b0cea9"
      },
      "execution_count": 26,
      "outputs": [
        {
          "output_type": "stream",
          "name": "stderr",
          "text": [
            "/usr/local/lib/python3.7/dist-packages/pgmpy/models/BayesianModel.py:10: FutureWarning: BayesianModel has been renamed to BayesianNetwork. Please use BayesianNetwork class, BayesianModel will be removed in future.\n",
            "  FutureWarning,\n"
          ]
        }
      ]
    },
    {
      "cell_type": "markdown",
      "source": [
        "2 State Counts\n",
        "\n",
        "To make sense of the given data, we can start by counting how often each state of the variable occurs. If the variable is dependent on parents, the counts are done conditionally on the parents states, i.e. for seperately for each parent configuration:"
      ],
      "metadata": {
        "id": "OboEbNhMY2Nb"
      }
    },
    {
      "cell_type": "code",
      "source": [
        "from pgmpy.estimators import ParameterEstimator\n",
        "pe = ParameterEstimator(model, data)\n",
        "print(\"\\n\", pe.state_counts('fruit'))  # unconditional\n",
        "print(\"\\n\", pe.state_counts('size'))  # unconditional\n",
        "print(\"\\n\", pe.state_counts('tasty'))  # conditional on fruit and size"
      ],
      "metadata": {
        "colab": {
          "base_uri": "https://localhost:8080/"
        },
        "id": "5nayFY2vYHpu",
        "outputId": "efde0ffa-03a1-431e-f847-b4ae84fa344a"
      },
      "execution_count": 35,
      "outputs": [
        {
          "output_type": "stream",
          "name": "stdout",
          "text": [
            "\n",
            "         fruit\n",
            "apple       7\n",
            "banana      7\n",
            "\n",
            "        size\n",
            "large    10\n",
            "small     4\n",
            "\n",
            " fruit apple       banana      \n",
            "size  large small  large small\n",
            "tasty                         \n",
            "no      1.0   1.0    1.0   1.0\n",
            "yes     3.0   2.0    5.0   0.0\n"
          ]
        }
      ]
    },
    {
      "cell_type": "markdown",
      "source": [
        "3 Maximum Likelihood Estimation\n",
        "\n",
        " A natural estimate for the CPDs is to simply use the relative frequencies, with which the variable states have occured. We observed 7 apples among a total of 14 fruits, so we might guess that about 50% of fruits are apples.\n",
        "\n",
        "This approach is Maximum Likelihood Estimation (MLE). According to MLE, we should fill the CPDs in such a way, that P(data|model) is maximal. This is achieved when using the relative frequencies.\n",
        "\n",
        "mle.estimate_cpd(variable) computes the state counts and divides each cell by \n",
        "the (conditional) sample size. The mle.get_parameters()-method returns a list of\n",
        "CPDs for all variable of the model.\n",
        "\n",
        "The built-in fit()-method of BayesianModel provides more convenient access to \n",
        "parameter estimators:"
      ],
      "metadata": {
        "id": "X8gCvR0yZFHC"
      }
    },
    {
      "cell_type": "code",
      "source": [
        "from pgmpy.estimators import MaximumLikelihoodEstimator\n",
        "mle = MaximumLikelihoodEstimator(model, data)\n",
        "print(mle.estimate_cpd('fruit'))  # unconditional\n",
        "print(mle.estimate_cpd('size'))  # unconditional\n",
        "print(mle.estimate_cpd('tasty'))  # conditional\n",
        "\n",
        "\n",
        "\n"
      ],
      "metadata": {
        "colab": {
          "base_uri": "https://localhost:8080/"
        },
        "id": "VXOPcFozanlt",
        "outputId": "5373d0b6-a98c-4c80-a64a-b460d82198a2"
      },
      "execution_count": 39,
      "outputs": [
        {
          "output_type": "stream",
          "name": "stdout",
          "text": [
            "+---------------+-----+\n",
            "| fruit(apple)  | 0.5 |\n",
            "+---------------+-----+\n",
            "| fruit(banana) | 0.5 |\n",
            "+---------------+-----+\n",
            "+-------------+----------+\n",
            "| size(large) | 0.714286 |\n",
            "+-------------+----------+\n",
            "| size(small) | 0.285714 |\n",
            "+-------------+----------+\n",
            "+------------+--------------+-----+---------------+\n",
            "| fruit      | fruit(apple) | ... | fruit(banana) |\n",
            "+------------+--------------+-----+---------------+\n",
            "| size       | size(large)  | ... | size(small)   |\n",
            "+------------+--------------+-----+---------------+\n",
            "| tasty(no)  | 0.25         | ... | 1.0           |\n",
            "+------------+--------------+-----+---------------+\n",
            "| tasty(yes) | 0.75         | ... | 0.0           |\n",
            "+------------+--------------+-----+---------------+\n"
          ]
        }
      ]
    },
    {
      "cell_type": "markdown",
      "source": [
        "Please note that only part of the table is visible"
      ],
      "metadata": {
        "id": "Lh8G5wWokoj3"
      }
    },
    {
      "cell_type": "code",
      "source": [
        "# Calibrate all CPDs of `model` using MLE:\n",
        "model.fit(data, estimator=MaximumLikelihoodEstimator)"
      ],
      "metadata": {
        "id": "jEsvSaXjepE4"
      },
      "execution_count": 40,
      "outputs": []
    },
    {
      "cell_type": "markdown",
      "source": [
        "While very straightforward, the ML estimator has the problem of overfitting to the data. In above CPD, the probability of a large banana being tasty is estimated at 0.833, because 5 out of 6 observed large bananas were tasty. Fine. But note that the probability of a small banana being tasty is estimated at 0.0, because we observed only one small banana and it happened to be not tasty. But that should hardly make us certain that small bananas aren’t tasty! We simply do not have enough observations to rely on the observed frequencies. If the observed data is not representative for the underlying distribution, ML estimations will be extremly far off.\n",
        "\n",
        "When estimating parameters for Bayesian networks, lack of data is a frequent problem. Even if the total sample size is very large, the fact that state counts are done conditionally for each parents configuration causes immense fragmentation. If a variable has 3 parents that can each take 10 states, then state counts will be done seperately for 10^3 = 1000 parents configurations. This makes MLE very fragile and unstable for learning Bayesian Network parameters. A way to mitigate MLE’s overfitting is Bayesian Parameter Estimation."
      ],
      "metadata": {
        "id": "QfHw6dlWe2EW"
      }
    },
    {
      "cell_type": "markdown",
      "source": [
        "Bayesian Parameter Estimator"
      ],
      "metadata": {
        "id": "4MbNXj5ue3pC"
      }
    },
    {
      "cell_type": "code",
      "source": [
        "from pgmpy.estimators import BayesianEstimator\n",
        "est = BayesianEstimator(model, data)\n",
        "\n",
        "print(est.estimate_cpd('tasty', prior_type='BDeu', equivalent_sample_size=10))"
      ],
      "metadata": {
        "colab": {
          "base_uri": "https://localhost:8080/"
        },
        "id": "UkiQWDyzfQNy",
        "outputId": "cfc3ceb2-1ab7-4795-814c-af2bdba2cc29"
      },
      "execution_count": 41,
      "outputs": [
        {
          "output_type": "stream",
          "name": "stdout",
          "text": [
            "+------------+---------------------+-----+---------------------+\n",
            "| fruit      | fruit(apple)        | ... | fruit(banana)       |\n",
            "+------------+---------------------+-----+---------------------+\n",
            "| size       | size(large)         | ... | size(small)         |\n",
            "+------------+---------------------+-----+---------------------+\n",
            "| tasty(no)  | 0.34615384615384615 | ... | 0.6428571428571429  |\n",
            "+------------+---------------------+-----+---------------------+\n",
            "| tasty(yes) | 0.6538461538461539  | ... | 0.35714285714285715 |\n",
            "+------------+---------------------+-----+---------------------+\n"
          ]
        }
      ]
    },
    {
      "cell_type": "markdown",
      "source": [
        "The estimated values in the CPDs are now more conservative. In particular, the estimate for a small banana being not tasty is now around 0.64 rather than 1.0. Setting equivalent_sample_size to 10 means that for each parent configuration, we add the equivalent of 10 uniform samples (here: +5 small bananas that are tasty and +5 that aren’t)."
      ],
      "metadata": {
        "id": "eaEai9QtjX3R"
      }
    }
  ]
}