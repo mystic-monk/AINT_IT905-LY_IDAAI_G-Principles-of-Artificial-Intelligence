{
  "nbformat": 4,
  "nbformat_minor": 0,
  "metadata": {
    "colab": {
      "provenance": [],
      "collapsed_sections": []
    },
    "kernelspec": {
      "name": "python3",
      "display_name": "Python 3"
    },
    "language_info": {
      "name": "python"
    }
  },
  "cells": [
    {
      "cell_type": "markdown",
      "source": [
        "This program in Python shows how to solve th 8-puzzle using misplaced tiles and A* Algorithm\n"
      ],
      "metadata": {
        "id": "SfpSzgr-bg2S"
      }
    },
    {
      "cell_type": "code",
      "source": [
        "state = [1,2,3,\n",
        "         0,5,6,\n",
        "         4,7,8]\n",
        "\n",
        "\n",
        "def count_misplaced(s):\n",
        "  counter = 0\n",
        "  goal =[1,2,3,\n",
        "         4,5,6,\n",
        "         7,8,0]\n",
        "  \n",
        "  for i in range(len(s)):\n",
        "    #We do not count the misplacement for tile zero/blank\n",
        "    if (s[i] != 0) and (s[i] != goal[i]):\n",
        "      counter+=1\n",
        "  return counter\n",
        "\n",
        "#Keeps track of the number of iterations of the A* algorithm\n",
        "num_searches = 0\n",
        "\n",
        "def print_state_as_matrix(state):\n",
        "  for i in range(len(state)):\n",
        "    #print(i)\n",
        "    if(i>0) and (i%3==0):\n",
        "      print(\" \")\n",
        "    print(str(state[i])+\" \", end=\"\")\n",
        "\n",
        "def move(pos_moves, p, s):\n",
        "  #Iterates over all possible moves to the blank \n",
        "  #Continously count for the resultant heuristic (rh)\n",
        "  #It keeps the state of the minimum heuristic\n",
        "  st = s.copy() #Saving a copy of the states\n",
        "\n",
        "  for i in range(len(pos_moves)):\n",
        "    rh=999999 #initial value of a resultant heuristic\n",
        "    dup_st = s.copy()\n",
        "    temp = dup_st[p]\n",
        "    dup_st[p] = dup_st[pos_moves[i]]\n",
        "    dup_st[pos_moves[i]] = temp\n",
        "\n",
        "    temp_rh = count_misplaced(dup_st)\n",
        "\n",
        "    if(temp_rh < rh):\n",
        "      rh=temp_rh\n",
        "      st=dup_st.copy()\n",
        "  \n",
        "  return st, rh\n",
        "\n",
        "h = count_misplaced(state)\n",
        "print(\"___________________A* search num\", num_searches,\"_______________\")\n",
        "print(\"heuristic at start\", h)\n",
        "print(\"State:\")\n",
        "print_state_as_matrix(state)\n",
        "\n",
        "while h>0:\n",
        "  #Obtaining the position of the blank tile\n",
        "  pos = int(state.index(0))\n",
        "  #Increasing the search in A* in 1\n",
        "  num_searches+=1\n",
        "   \n",
        "  if (pos==0):\n",
        "    possible_moves_blank = [1,3] #The positions that the blank tile can move to\n",
        "    state, h = move(possible_moves_blank, pos, state) #we are returning the current puzzle state and heuristic\n",
        "  elif (pos==1):\n",
        "    possible_moves_blank = [0,2,4]\n",
        "    state, h = move(possible_moves_blank, pos, state)\n",
        "  elif (pos==2):\n",
        "    possible_moves_blank = [1,5]\n",
        "    state, h = move(possible_moves_blank, pos, state)\n",
        "  elif (pos==3):\n",
        "    possible_moves_blank = [0,4,6]\n",
        "    state, h = move(possible_moves_blank, pos, state)\n",
        "  elif (pos==4):\n",
        "    possible_moves_blank = [1,3,5,7]\n",
        "    state, h = move(possible_moves_blank, pos, state)\n",
        "  elif (pos==5):\n",
        "    possible_moves_blank = [2,4,8]\n",
        "    state, h = move(possible_moves_blank, pos, state)\n",
        "  elif (pos==6):\n",
        "    possible_moves_blank = [3,7]\n",
        "    state, h = move(possible_moves_blank, pos, state)\n",
        "  elif (pos==7):\n",
        "    possible_moves_blank = [4,6,8]\n",
        "    state, h = move(possible_moves_blank, pos, state)\n",
        "  elif (pos==8):\n",
        "    possible_moves_blank = [5,6]\n",
        "    state, h = move(possible_moves_blank, pos, state)\n",
        "\n",
        "  print(\"___________________A* search num\", num_searches,\"_______________\")\n",
        "  print(\"heuristic at start\", h)\n",
        "  print(\"State:\")\n",
        "  print_state_as_matrix(state)\n",
        "\n",
        "\n"
      ],
      "metadata": {
        "colab": {
          "base_uri": "https://localhost:8080/"
        },
        "id": "wODeYvgfbgl3",
        "outputId": "32434397-8bb8-49ff-8a98-9cbdc866d2c6"
      },
      "execution_count": 43,
      "outputs": [
        {
          "output_type": "stream",
          "name": "stdout",
          "text": [
            "___________________A* search num 0 _______________\n",
            "heuristic at start 3\n",
            "State:\n",
            "1 2 3  \n",
            "0 5 6  \n",
            "4 7 8 ___________________A* search num 1 _______________\n",
            "heuristic at start 2\n",
            "State:\n",
            "1 2 3  \n",
            "4 5 6  \n",
            "0 7 8 ___________________A* search num 2 _______________\n",
            "heuristic at start 1\n",
            "State:\n",
            "1 2 3  \n",
            "4 5 6  \n",
            "7 0 8 ___________________A* search num 3 _______________\n",
            "heuristic at start 0\n",
            "State:\n",
            "1 2 3  \n",
            "4 5 6  \n",
            "7 8 0 "
          ]
        }
      ]
    }
  ]
}