{
  "nbformat": 4,
  "nbformat_minor": 0,
  "metadata": {
    "kernelspec": {
      "display_name": "Python 3",
      "language": "python",
      "name": "python3"
    },
    "language_info": {
      "codemirror_mode": {
        "name": "ipython",
        "version": 3
      },
      "file_extension": ".py",
      "mimetype": "text/x-python",
      "name": "python",
      "nbconvert_exporter": "python",
      "pygments_lexer": "ipython3",
      "version": "3.7.3"
    },
    "colab": {
      "provenance": [],
      "collapsed_sections": []
    }
  },
  "cells": [
    {
      "cell_type": "markdown",
      "metadata": {
        "id": "ziYR50ruoOAF"
      },
      "source": [
        "# Python Refresher part 2"
      ]
    },
    {
      "cell_type": "markdown",
      "source": [
        "List \n",
        "\n",
        "A container data type that stores a\n",
        "sequence of elements. Unlike strings, lists\n",
        "are mutable: modification possible.\n",
        "\n"
      ],
      "metadata": {
        "id": "7rXPfjd0Jq-W"
      }
    },
    {
      "cell_type": "code",
      "source": [
        "list_num = [12, 22, 32, 42]\n",
        "print(list_num)\n",
        "#Add elements to a list\n",
        "#Append\n",
        "list_num.append(52)\n",
        "print(list_num)\n",
        "#Insert index where will be added and element to add\n",
        "#The list starts in 0 and ends in n-1\n",
        "list_num.insert(1,13)\n",
        "print(list_num)\n",
        "#Concatenate\n",
        "print(list_num + [62])\n",
        "\n",
        "#You can do negative indexing\n",
        "print(list_num[-1])\n",
        "print(list_num[-2])\n",
        "\n",
        "#Iterating over a list using loop instructions\n",
        "#For\n",
        "print()\n",
        "for item in list_num:\n",
        "  #the identation indicates the context\n",
        "  print(item)\n",
        "\n",
        "print()\n",
        "#Another way of doing the same\n",
        "for index in range(0,len(list_num)):\n",
        "  print(list_num[index])\n",
        "\n",
        "print()\n",
        "#Using a while and doing the same\n",
        "i=0\n",
        "while(i<len(list_num)):\n",
        "  print(list_num[i])\n",
        "  i+=1 #i = i+1\n",
        "\n",
        "print()\n",
        "#Removing values from a list\n",
        "list_num.remove(32)\n",
        "print(list_num)\n",
        "print()\n",
        "#pop function\n",
        "list_num.pop()#removes the last value in the list (stack)\n",
        "print(list_num)\n",
        "print()\n",
        "list_num.pop(0)#the attribute is the index to remove the elemnt from\n",
        "print(list_num)\n",
        "print()\n",
        "\n",
        "#Reverse the order of a list\n",
        "list_num.reverse()\n",
        "print(list_num)\n",
        "print()\n",
        "\n",
        "#Sorting the numbers of a list\n",
        "list_num.insert(1,92)\n",
        "print(list_num)\n",
        "list_num.sort()\n",
        "print(list_num)\n",
        "print()\n",
        "\n",
        "#Finding the first ocurrence of an element in a list\n",
        "print(list_num.index(92))\n",
        "print()\n",
        "list_num.insert(3,13)\n",
        "print(list_num)\n",
        "print(list_num.index(13))\n",
        "#Return index after position 1\n",
        "print(list_num.index(13,1))\n",
        "print()\n",
        "\n",
        "#You can slice a list\n",
        "print(list_num[:2])\n"
      ],
      "metadata": {
        "colab": {
          "base_uri": "https://localhost:8080/"
        },
        "id": "OoGhmi3iJqZc",
        "outputId": "2997ed6f-7c3e-42c4-99e5-b6e516fe38b3"
      },
      "execution_count": null,
      "outputs": [
        {
          "output_type": "stream",
          "name": "stdout",
          "text": [
            "[12, 22, 32, 42]\n",
            "[12, 22, 32, 42, 52]\n",
            "[12, 13, 22, 32, 42, 52]\n",
            "[12, 13, 22, 32, 42, 52, 62]\n",
            "52\n",
            "42\n",
            "\n",
            "12\n",
            "13\n",
            "22\n",
            "32\n",
            "42\n",
            "52\n",
            "\n",
            "12\n",
            "13\n",
            "22\n",
            "32\n",
            "42\n",
            "52\n",
            "\n",
            "12\n",
            "13\n",
            "22\n",
            "32\n",
            "42\n",
            "52\n",
            "\n",
            "[12, 13, 22, 42, 52]\n",
            "\n",
            "[12, 13, 22, 42]\n",
            "\n",
            "[13, 22, 42]\n",
            "\n",
            "[42, 22, 13]\n",
            "\n",
            "[42, 92, 22, 13]\n",
            "[13, 22, 42, 92]\n",
            "\n",
            "3\n",
            "\n",
            "[13, 22, 42, 13, 92]\n",
            "0\n",
            "3\n",
            "\n",
            "[13, 22]\n"
          ]
        }
      ]
    },
    {
      "cell_type": "markdown",
      "source": [
        "E1. Now create a list of five fruits (introduce 5 strings of five fruits). Iterate over each element and print the list. Then add a 6th fruit at the end and a 7th fruit in index 2. Print the list backwards and finally print the list ordered alphabetically"
      ],
      "metadata": {
        "id": "yHXwhx3KZccZ"
      }
    },
    {
      "cell_type": "code",
      "source": [],
      "metadata": {
        "id": "5AfWmTt7TCNc"
      },
      "execution_count": null,
      "outputs": []
    },
    {
      "cell_type": "markdown",
      "source": [
        "Tuples\n",
        "\n",
        "They are similar to lists, but the elements of a tuple cannot be modified. These are specified using round brackets"
      ],
      "metadata": {
        "id": "e5Tvs8JbT1Se"
      }
    },
    {
      "cell_type": "code",
      "source": [
        "t1 = (\"lion\", \"elephant\")\n",
        "print(t1)\n",
        "#Type is a function that can retrieve the type of object \n",
        "print(type(t1))\n",
        "\n",
        "#You can create a function that returns a tuple\n",
        "#A function is defined ussing the keyword def, the name of the function and the parameters it receives\n",
        "def calculate_velocity_acceleration(distance, time):\n",
        "  velocity = distance/time\n",
        "  return (velocity, distance, time) # A function can receive a message or not\n",
        "\n",
        "print(calculate_velocity_acceleration(20, 4.5))"
      ],
      "metadata": {
        "colab": {
          "base_uri": "https://localhost:8080/"
        },
        "id": "0fjlhiYJT0Cv",
        "outputId": "972ee065-a7a7-49ec-c69b-3318e32d2b5a"
      },
      "execution_count": null,
      "outputs": [
        {
          "output_type": "stream",
          "name": "stdout",
          "text": [
            "('lion', 'elephant')\n",
            "<class 'tuple'>\n",
            "(4.444444444444445, 20, 4.5)\n"
          ]
        }
      ]
    },
    {
      "cell_type": "markdown",
      "source": [
        "E2. Now create a function acceleration that receives velocity and time and returns acceleration, velocity and time"
      ],
      "metadata": {
        "id": "CMpMwpUx0HzH"
      }
    },
    {
      "cell_type": "code",
      "source": [],
      "metadata": {
        "id": "u0K_J4DH2nNK"
      },
      "execution_count": null,
      "outputs": []
    },
    {
      "cell_type": "markdown",
      "source": [
        "Set\n",
        "\n",
        "is an unordered collection of unique elements (“at-most-once”)."
      ],
      "metadata": {
        "id": "uB4N--BRUbe9"
      }
    },
    {
      "cell_type": "code",
      "source": [
        "basket = {'apple', 'eggs', 'milk', 'banana', 'orange juice'}\n",
        "#The set constructor can be used to create the same set from a list\n",
        "same_basket = set(['apple', 'eggs', 'milk', 'banana', 'orange juice'])\n",
        "print(basket)\n",
        "print(same_basket)\n"
      ],
      "metadata": {
        "colab": {
          "base_uri": "https://localhost:8080/"
        },
        "id": "q26ChbgJ3jcp",
        "outputId": "14c636b3-54c0-4bd8-bca6-4216bedc5f7b"
      },
      "execution_count": null,
      "outputs": [
        {
          "output_type": "stream",
          "name": "stdout",
          "text": [
            "{'apple', 'eggs', 'milk', 'orange juice', 'banana'}\n",
            "{'apple', 'eggs', 'milk', 'orange juice', 'banana'}\n"
          ]
        }
      ]
    },
    {
      "cell_type": "markdown",
      "source": [
        "Dictionary\n",
        "\n",
        "The dictionary is a useful data structure for storing (key, value) pairs."
      ],
      "metadata": {
        "id": "wBG19q-Y4IrL"
      }
    },
    {
      "cell_type": "code",
      "source": [
        "calories = {'apple' : 52, 'banana' : 89, 'choco' : 546}\n",
        "#You can iterate over a dictionary\n",
        "for item in calories:\n",
        "  print(item)\n",
        "print()\n",
        "\n",
        "for item in calories:\n",
        "  print(item, \"\\t\", calories[item])\n",
        "print()\n",
        "\n",
        "#This does the same:\n",
        "for item, cal in calories.items():\n",
        "  print(item, \"\\t\", cal)\n",
        "print()\n",
        "\n",
        "#The in keywork help us to know if an element is in a list, dictionary or set\n",
        "print('apple' in calories)\n",
        "print('soup' in calories)"
      ],
      "metadata": {
        "colab": {
          "base_uri": "https://localhost:8080/"
        },
        "id": "C0N4eokR4M7c",
        "outputId": "5019c98d-423e-4c29-c9a7-89c8cb0dbcd0"
      },
      "execution_count": null,
      "outputs": [
        {
          "output_type": "stream",
          "name": "stdout",
          "text": [
            "apple\n",
            "banana\n",
            "choco\n",
            "\n",
            "apple \t 52\n",
            "banana \t 89\n",
            "choco \t 546\n",
            "\n",
            "apple \t 52\n",
            "banana \t 89\n",
            "choco \t 546\n",
            "\n",
            "True\n",
            "False\n"
          ]
        }
      ]
    },
    {
      "cell_type": "markdown",
      "source": [
        "E3. Create a dictionary of food in a menu of pizzas and prices. Then create a list client containing some of these pizzas and calculate the price to pay in the client list "
      ],
      "metadata": {
        "id": "zBqlGO6e4x-P"
      }
    },
    {
      "cell_type": "code",
      "source": [],
      "metadata": {
        "id": "aMikHF315ZL0"
      },
      "execution_count": null,
      "outputs": []
    },
    {
      "cell_type": "markdown",
      "source": [
        "Now, it arrived the time to create a class and wrap it all. \n",
        "\n",
        "A class encapsulates data and functionality: data as attributes, and functionality as methods. It is a blueprint for creating concrete instances in memory.\n",
        "\n",
        "In the following example we are going to create a CatRobot class \n"
      ],
      "metadata": {
        "id": "9_7lm1GY56X7"
      }
    },
    {
      "cell_type": "code",
      "source": [
        "class CatRobot:\n",
        "  \"\"\" Blueprint of a cat \"\"\"\n",
        "  # class variable shared by all instances\n",
        "  species = [\"Felis catus\"]\n",
        "\n",
        "  #This is the class constructor (to instance an object)\n",
        "  def __init__(self, name, colour):\n",
        "    #These are th attrribute of the cat robot\n",
        "    self.name = name\n",
        "    self.state =\"awake\"\n",
        "    self.colour = colour\n",
        "\n",
        "  #These are methods to interact with the object\n",
        "  def command(self, x):\n",
        "    if x == self.name:\n",
        "      self.meow(2)\n",
        "    elif x == \"sleep\":\n",
        "      self.state = \"sleeping\"\n",
        "    else:\n",
        "      self.state = \"awake\"\n",
        "\n",
        "  def meow(self, freq):\n",
        "    for i in range(freq):\n",
        "      print(\"[\" + self.name+ \"]: Meow!\")\n",
        "\n",
        "cat1 = CatRobot(\"kitty\", \"white\") #This calls the constructor method\n",
        "cat2 = CatRobot(\"toulouse\", \"grey\")\n",
        "print()\n",
        "print(cat1.name, cat1.state, cat1.colour)\n",
        "print(cat2.name, cat2.state, cat2.colour)\n",
        "print()\n",
        "cat1.command(\"sleep\")\n",
        "print(cat1.name, cat1.state)\n",
        "print(cat2.name, cat2.state)\n",
        "cat1.command(\"awake\")\n",
        "print(cat1.name, cat1.state)\n",
        "cat1.meow(5)\n",
        "\n",
        "\n"
      ],
      "metadata": {
        "id": "FZXWtSDW7c8k",
        "colab": {
          "base_uri": "https://localhost:8080/"
        },
        "outputId": "81e11877-e2d2-4bdf-98dd-3acca52ea932"
      },
      "execution_count": 27,
      "outputs": [
        {
          "output_type": "stream",
          "name": "stdout",
          "text": [
            "\n",
            "kitty awake white\n",
            "toulouse awake grey\n",
            "\n",
            "kitty sleeping\n",
            "toulouse awake\n",
            "kitty awake\n",
            "[kitty]: Meow!\n",
            "[kitty]: Meow!\n",
            "[kitty]: Meow!\n",
            "[kitty]: Meow!\n",
            "[kitty]: Meow!\n"
          ]
        }
      ]
    },
    {
      "cell_type": "markdown",
      "source": [
        "Please consider that Python has many libraries and sometimes instead of creating our own Classes, we will re-use classes. To know how these classes are defines, you will have to look at the specific Python documentation of the class (https://docs.python.org/3/library/index.html) "
      ],
      "metadata": {
        "id": "aUMiMnrJFIpo"
      }
    },
    {
      "cell_type": "markdown",
      "source": [
        "E4. Now create a class DogRobot, create 3 dogs and call a few methods"
      ],
      "metadata": {
        "id": "oZxXozbBEWv0"
      }
    },
    {
      "cell_type": "code",
      "source": [],
      "metadata": {
        "id": "NANZxOHfEWLl"
      },
      "execution_count": null,
      "outputs": []
    }
  ]
}